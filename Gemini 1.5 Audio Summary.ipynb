{
  "cells": [
    {
      "cell_type": "code",
      "execution_count": 1,
      "metadata": {
        "id": "tN0wsjbYv3AI"
      },
      "outputs": [],
      "source": [
        "!pip install -q -U google-generativeai"
      ]
    },
    {
      "cell_type": "code",
      "execution_count": 2,
      "metadata": {
        "id": "R-lu55H7wTsY"
      },
      "outputs": [
        {
          "name": "stderr",
          "output_type": "stream",
          "text": [
            "/home/pradeep/anaconda3/envs/.venv/lib/python3.11/site-packages/tqdm/auto.py:21: TqdmWarning: IProgress not found. Please update jupyter and ipywidgets. See https://ipywidgets.readthedocs.io/en/stable/user_install.html\n",
            "  from .autonotebook import tqdm as notebook_tqdm\n"
          ]
        }
      ],
      "source": [
        "import google.generativeai as genai\n",
        "import os"
      ]
    },
    {
      "cell_type": "code",
      "execution_count": 3,
      "metadata": {
        "id": "4sMVdBYIwmy9"
      },
      "outputs": [],
      "source": [
        "GOOGLE_API_KEY=os.getenv(\"GOOGLE_API_KEY\")\n",
        "genai.configure(api_key=GOOGLE_API_KEY)"
      ]
    },
    {
      "cell_type": "code",
      "execution_count": 4,
      "metadata": {
        "id": "xE-_0Hpsw4l2"
      },
      "outputs": [],
      "source": [
        "audio_file = genai.upload_file(path=\"te.wav\")"
      ]
    },
    {
      "cell_type": "code",
      "execution_count": 5,
      "metadata": {
        "colab": {
          "base_uri": "https://localhost:8080/",
          "height": 311
        },
        "id": "xgigqM-XxQPH",
        "outputId": "ac55acf7-36d9-4c00-dcec-47fbeaa4c2df"
      },
      "outputs": [
        {
          "name": "stdout",
          "output_type": "stream",
          "text": [
            "The audio features a repeating melodic pattern played on a synthesized chime-like instrument. It has a bright and playful tone, with a medium tempo. The melody is simple, consisting of four notes that rise and fall in a predictable sequence. \n",
            "\n"
          ]
        }
      ],
      "source": [
        "model = genai.GenerativeModel(\"models/gemini-1.5-pro-latest\")\n",
        "\n",
        "response = model.generate_content(\n",
        "    [\n",
        "        \"Please summarize the following audio.\",\n",
        "        audio_file\n",
        "    ]\n",
        ")\n",
        "print(response.text)"
      ]
    },
    {
      "cell_type": "code",
      "execution_count": 11,
      "metadata": {
        "id": "q2wTRRM0x_KJ"
      },
      "outputs": [
        {
          "name": "stdout",
          "output_type": "stream",
          "text": [
            "Overwriting audioapp.py\n"
          ]
        }
      ],
      "source": [
        "%%writefile audioapp.py\n",
        "import streamlit as st\n",
        "import google.generativeai as genai\n",
        "import os\n",
        "import tempfile\n",
        "\n",
        "GOOGLE_API_KEY=os.getenv(\"GOOGLE_API_KEY\")\n",
        "genai.configure(api_key=GOOGLE_API_KEY)\n",
        "\n",
        "st.title(\"Audio to Text Summarizer App\")\n",
        "file=st.file_uploader(\"Upload your audio file\",type=['mp3','wav'])\n",
        "\n",
        "def save_uploaded_file(uploaded_file):\n",
        "    \"\"\"Save uploaded file to a temporary file and return the path.\"\"\"\n",
        "    try:\n",
        "        with tempfile.NamedTemporaryFile(delete=False, suffix='.' + uploaded_file.name.split('.')[-1]) as tmp_file:\n",
        "            tmp_file.write(uploaded_file.getvalue())\n",
        "            return tmp_file.name\n",
        "    except Exception as e:\n",
        "        st.error(f\"Error handling uploaded file: {e}\")\n",
        "        return None\n",
        "\n",
        "if file is not None:\n",
        "    audio_path=save_uploaded_file(file)\n",
        "    audio_file = genai.upload_file(path=audio_path)\n",
        "    if st.button(\"Summarize\"):\n",
        "        with st.spinner(\"Summarizing...\"):\n",
        "            model = genai.GenerativeModel(\"models/gemini-1.5-pro-latest\")\n",
        "\n",
        "            response = model.generate_content([\n",
        "        \"Please summarize the following audio.\",\n",
        "        audio_file\n",
        "        ])\n",
        "            st.info(response.text)    \n",
        "    \n",
        "\n"
      ]
    },
    {
      "cell_type": "code",
      "execution_count": 12,
      "metadata": {},
      "outputs": [
        {
          "name": "stdout",
          "output_type": "stream",
          "text": [
            "\u001b[0m\n",
            "\u001b[34m\u001b[1m  You can now view your Streamlit app in your browser.\u001b[0m\n",
            "\u001b[0m\n",
            "\u001b[34m  Local URL: \u001b[0m\u001b[1mhttp://localhost:8501\u001b[0m\n",
            "\u001b[34m  Network URL: \u001b[0m\u001b[1mhttp://172.16.1.21:8501\u001b[0m\n",
            "\u001b[0m\n",
            "^C\n",
            "\u001b[34m  Stopping...\u001b[0m\n"
          ]
        }
      ],
      "source": [
        "!streamlit run audioapp.py"
      ]
    },
    {
      "cell_type": "code",
      "execution_count": null,
      "metadata": {},
      "outputs": [],
      "source": []
    }
  ],
  "metadata": {
    "colab": {
      "provenance": []
    },
    "kernelspec": {
      "display_name": "Python 3",
      "name": "python3"
    },
    "language_info": {
      "codemirror_mode": {
        "name": "ipython",
        "version": 3
      },
      "file_extension": ".py",
      "mimetype": "text/x-python",
      "name": "python",
      "nbconvert_exporter": "python",
      "pygments_lexer": "ipython3",
      "version": "3.11.9"
    }
  },
  "nbformat": 4,
  "nbformat_minor": 0
}
